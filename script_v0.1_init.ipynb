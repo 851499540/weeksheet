{
 "cells": [
  {
   "cell_type": "markdown",
   "metadata": {},
   "source": [
    "# 单表格取出工作事项"
   ]
  },
  {
   "cell_type": "code",
   "execution_count": 1,
   "metadata": {},
   "outputs": [],
   "source": [
    "import xlwings as xw\n",
    "import pandas as pd\n",
    "import numpy as np\n",
    "import difflib"
   ]
  },
  {
   "cell_type": "code",
   "execution_count": 2,
   "metadata": {},
   "outputs": [],
   "source": [
    "path = r\"D:\\work\\PMO\\资源投入自动化\\附件3_应用建设_数据组_双周计划_翁圳滨_3月.xlsx\"\n",
    "wb = xw.Book(path)\n",
    "#表格总数\n",
    "sht_ai =  len(wb.sheets)\n",
    "#当前表格\n",
    "sht_i = 2\n",
    "sht = wb.sheets[sht_i]\n",
    "sht_value = sht.range('A1:Y41').value"
   ]
  },
  {
   "cell_type": "code",
   "execution_count": 6,
   "metadata": {},
   "outputs": [
    {
     "name": "stdout",
     "output_type": "stream",
     "text": [
      "2\n",
      "3\n",
      "4\n",
      "5\n",
      "6\n"
     ]
    }
   ],
   "source": [
    "#----------------只取周工作表---------\n",
    "\n",
    "t = [l for l in wb.sheets]\n",
    "sht_aname = list()\n",
    "for i in range(0,sht_ai):\n",
    "    sht_aname.append(t[i].name)\n",
    "\n",
    "sht_real_aname = [i for i in sht_aname if \"周工作总结\" in i]\n",
    "# sht_real_aname = list(filter(lambda x:x.find(\"周工作总结\") >= 0,sht_aname))\n",
    "# sht_aname_index = [i for i in sht_aname if \"周工作总结\" in i]\n",
    "sht_aname_index = list()\n",
    "for i in sht_aname:\n",
    "    if \"周工作总结\" in i: sht_aname_index.append(True)\n",
    "    else:sht_aname_index.append(False)\n",
    "sht_aname_index\n",
    "sht = wb.sheets[sht_real_aname[0]]\n",
    "#取表格使用范围\n",
    "# sht_value = sht.range('A1:T30').value\n",
    "sht_value = sht.range((1,1),sht.used_range.shape).value\n",
    "sht_value\n",
    "t = [i for i in range(0,sht_ai)]\n",
    "t = np.array(t)[np.array(sht_aname_index)]\n",
    "for i in t:\n",
    "    print(i)\n"
   ]
  },
  {
   "cell_type": "code",
   "execution_count": 37,
   "metadata": {},
   "outputs": [
    {
     "data": {
      "text/plain": [
       "[False, False, True, True, True, True, True]"
      ]
     },
     "execution_count": 37,
     "metadata": {},
     "output_type": "execute_result"
    }
   ],
   "source": [
    "sht_aname_index"
   ]
  },
  {
   "cell_type": "code",
   "execution_count": 46,
   "metadata": {},
   "outputs": [
    {
     "name": "stdout",
     "output_type": "stream",
     "text": [
      "2\n",
      "3\n",
      "4\n",
      "5\n",
      "6\n"
     ]
    }
   ],
   "source": [
    "t = [i for i in range(0,sht_ai)]\n",
    "t = np.array(t)[np.array(sht_aname_index)]\n",
    "for i in t:\n",
    "    print(i)\n"
   ]
  },
  {
   "cell_type": "markdown",
   "metadata": {},
   "source": [
    "### 取出本周有工作事项"
   ]
  },
  {
   "cell_type": "markdown",
   "metadata": {},
   "source": [
    "#### 行数 rnum"
   ]
  },
  {
   "cell_type": "code",
   "execution_count": 12,
   "metadata": {},
   "outputs": [
    {
     "data": {
      "text/plain": [
       "3"
      ]
     },
     "execution_count": 12,
     "metadata": {},
     "output_type": "execute_result"
    }
   ],
   "source": [
    "num_list  = [i[0] for i in sht_value]\n",
    "frnum = num_list.index('任务编号') + 1\n",
    "try:\n",
    "    lrnum = num_list.index('小计') \n",
    "except:\n",
    "    lrnum = num_list.index('小计（小时）') \n",
    "num_list_right =  list(filter(None, num_list[frnum:lrnum]))\n",
    "\n",
    "# python list 取数 [0:1] 只取第一个数，第1位次的第二个值不取\n",
    "# num_list[head:tail]\n",
    "# [1.0, 2.0, 3.0, None]\n",
    "rnum = len(num_list_right)\n",
    "rnum"
   ]
  },
  {
   "cell_type": "markdown",
   "metadata": {},
   "source": [
    "#### 列数 cnum"
   ]
  },
  {
   "cell_type": "code",
   "execution_count": 33,
   "metadata": {},
   "outputs": [
    {
     "data": {
      "text/plain": [
       "13"
      ]
     },
     "execution_count": 33,
     "metadata": {},
     "output_type": "execute_result"
    }
   ],
   "source": [
    "\n",
    "if sht_i == 2:\n",
    "    l  = sht_value[1]\n",
    "    l = ['None' if v is None else v for v in l]\n",
    "\n",
    "    res = difflib.get_close_matches('项目用时统计', l, 1, cutoff=0.5)\n",
    "\n",
    "    cnum = sht_value[1].index(res[0])\n",
    "else:\n",
    "    l  = sht_value[0]\n",
    "    l = ['None' if v is None else v for v in l]\n",
    "\n",
    "    res = difflib.get_close_matches('项目用时统计', l, 1, cutoff=0.5)\n",
    "    \n",
    "    cnum = sht_value[0].index(res[0])\n",
    "cnum\n"
   ]
  },
  {
   "cell_type": "markdown",
   "metadata": {},
   "source": [
    "#### 将本周的工作事项导出"
   ]
  },
  {
   "cell_type": "code",
   "execution_count": 6,
   "metadata": {},
   "outputs": [
    {
     "data": {
      "text/html": [
       "<div>\n",
       "<style scoped>\n",
       "    .dataframe tbody tr th:only-of-type {\n",
       "        vertical-align: middle;\n",
       "    }\n",
       "\n",
       "    .dataframe tbody tr th {\n",
       "        vertical-align: top;\n",
       "    }\n",
       "\n",
       "    .dataframe thead th {\n",
       "        text-align: right;\n",
       "    }\n",
       "</style>\n",
       "<table border=\"1\" class=\"dataframe\">\n",
       "  <thead>\n",
       "    <tr style=\"text-align: right;\">\n",
       "      <th></th>\n",
       "      <th>任务编号</th>\n",
       "      <th>任务名称</th>\n",
       "      <th>负责人</th>\n",
       "      <th>协助人</th>\n",
       "      <th>交付件/工作文档</th>\n",
       "      <th>计划完成比例</th>\n",
       "      <th>实际完成比例</th>\n",
       "      <th>任务状态</th>\n",
       "      <th>星期一</th>\n",
       "      <th>星期二</th>\n",
       "      <th>星期三</th>\n",
       "      <th>星期四</th>\n",
       "      <th>星期五</th>\n",
       "      <th>项目投入统计</th>\n",
       "    </tr>\n",
       "  </thead>\n",
       "  <tbody>\n",
       "    <tr>\n",
       "      <th>0</th>\n",
       "      <td>1.0</td>\n",
       "      <td>数据资产学习</td>\n",
       "      <td>翁圳滨</td>\n",
       "      <td>None</td>\n",
       "      <td>课件</td>\n",
       "      <td>1.0</td>\n",
       "      <td>1.0</td>\n",
       "      <td>完成</td>\n",
       "      <td>0.0</td>\n",
       "      <td>0.0</td>\n",
       "      <td>0.0</td>\n",
       "      <td>7.0</td>\n",
       "      <td>5.0</td>\n",
       "      <td>12.0</td>\n",
       "    </tr>\n",
       "    <tr>\n",
       "      <th>1</th>\n",
       "      <td>2.0</td>\n",
       "      <td>PMO</td>\n",
       "      <td>翁圳滨</td>\n",
       "      <td>None</td>\n",
       "      <td>项目管理文档</td>\n",
       "      <td>1.0</td>\n",
       "      <td>1.0</td>\n",
       "      <td>完成</td>\n",
       "      <td>2.0</td>\n",
       "      <td>7.0</td>\n",
       "      <td>6.0</td>\n",
       "      <td>0.0</td>\n",
       "      <td>2.0</td>\n",
       "      <td>17.0</td>\n",
       "    </tr>\n",
       "    <tr>\n",
       "      <th>2</th>\n",
       "      <td>3.0</td>\n",
       "      <td>其他任务</td>\n",
       "      <td>翁圳滨</td>\n",
       "      <td>None</td>\n",
       "      <td>资料文档</td>\n",
       "      <td>1.0</td>\n",
       "      <td>1.0</td>\n",
       "      <td>完成</td>\n",
       "      <td>5.0</td>\n",
       "      <td>0.0</td>\n",
       "      <td>1.0</td>\n",
       "      <td>0.0</td>\n",
       "      <td>0.0</td>\n",
       "      <td>6.0</td>\n",
       "    </tr>\n",
       "    <tr>\n",
       "      <th>3</th>\n",
       "      <td>小计（小时）</td>\n",
       "      <td>None</td>\n",
       "      <td>None</td>\n",
       "      <td>None</td>\n",
       "      <td>None</td>\n",
       "      <td>None</td>\n",
       "      <td>None</td>\n",
       "      <td>None</td>\n",
       "      <td>8.0</td>\n",
       "      <td>8.0</td>\n",
       "      <td>8.0</td>\n",
       "      <td>8.0</td>\n",
       "      <td>8.0</td>\n",
       "      <td>40.0</td>\n",
       "    </tr>\n",
       "  </tbody>\n",
       "</table>\n",
       "</div>"
      ],
      "text/plain": [
       "     任务编号    任务名称   负责人   协助人 交付件/工作文档 计划完成比例 实际完成比例  任务状态  星期一  星期二  星期三  \\\n",
       "0     1.0  数据资产学习   翁圳滨  None       课件    1.0    1.0    完成  0.0  0.0  0.0   \n",
       "1     2.0     PMO   翁圳滨  None   项目管理文档    1.0    1.0    完成  2.0  7.0  6.0   \n",
       "2     3.0    其他任务   翁圳滨  None     资料文档    1.0    1.0    完成  5.0  0.0  1.0   \n",
       "3  小计（小时）    None  None  None     None   None   None  None  8.0  8.0  8.0   \n",
       "\n",
       "   星期四  星期五  项目投入统计  \n",
       "0  7.0  5.0    12.0  \n",
       "1  0.0  2.0    17.0  \n",
       "2  0.0  0.0     6.0  \n",
       "3  8.0  8.0    40.0  "
      ]
     },
     "execution_count": 6,
     "metadata": {},
     "output_type": "execute_result"
    }
   ],
   "source": [
    "worktemp = pd.DataFrame(sht_value[frnum-1:lrnum+1])\n",
    "worktemp = worktemp.iloc[:,0:(cnum+1)]\n",
    "rowname = worktemp.iloc[0]\n",
    "worktemp = worktemp.rename(columns=rowname).iloc[1:]\n",
    "worktemp.columns = [*worktemp.columns[:-1], '项目投入统计']\n",
    "worktemp = worktemp.reset_index(drop=True)\n",
    "worktemp"
   ]
  },
  {
   "cell_type": "markdown",
   "metadata": {},
   "source": [
    "### 判断项目总计是否正确 _"
   ]
  },
  {
   "cell_type": "code",
   "execution_count": 160,
   "metadata": {},
   "outputs": [],
   "source": [
    "# for i in range(0,rnum):\n",
    "    "
   ]
  },
  {
   "cell_type": "markdown",
   "metadata": {},
   "source": [
    "### 判断横纵总计是否相等"
   ]
  },
  {
   "cell_type": "code",
   "execution_count": 161,
   "metadata": {},
   "outputs": [],
   "source": [
    "# dist = worktemp.iloc[-1,-1] - worktemp.iloc[:-1,-1].sum()\n",
    "# dist\n",
    "# if dist == 5:\n",
    "    "
   ]
  },
  {
   "cell_type": "markdown",
   "metadata": {},
   "source": [
    "### 最终输出工作事项"
   ]
  },
  {
   "cell_type": "code",
   "execution_count": null,
   "metadata": {},
   "outputs": [],
   "source": []
  },
  {
   "cell_type": "markdown",
   "metadata": {},
   "source": [
    "### 输出到新的excel中"
   ]
  },
  {
   "cell_type": "code",
   "execution_count": 162,
   "metadata": {},
   "outputs": [],
   "source": [
    "wb0 = xw.books.open(r\".\\汇总.xlsx\")\n",
    "wb0.sheets[0].range(1,1).expand().value = worktemp.values.tolist()\n",
    "wb0.save()\n",
    "wb0.app.quit()"
   ]
  },
  {
   "cell_type": "markdown",
   "metadata": {},
   "source": [
    "### 关闭excel"
   ]
  },
  {
   "cell_type": "code",
   "execution_count": null,
   "metadata": {},
   "outputs": [],
   "source": [
    "wb.app.display_alerts=False\n",
    "wb.app.quit()"
   ]
  }
 ],
 "metadata": {
  "kernelspec": {
   "display_name": "Python 3.8.10 64-bit (system)",
   "language": "python",
   "name": "python3"
  },
  "language_info": {
   "codemirror_mode": {
    "name": "ipython",
    "version": 3
   },
   "file_extension": ".py",
   "mimetype": "text/x-python",
   "name": "python",
   "nbconvert_exporter": "python",
   "pygments_lexer": "ipython3",
   "version": "3.8.10"
  },
  "orig_nbformat": 4,
  "vscode": {
   "interpreter": {
    "hash": "64293541769a3a7ae8531eb8700ba74e3bd605bea6651d9311250b85b07b58f7"
   }
  }
 },
 "nbformat": 4,
 "nbformat_minor": 2
}
