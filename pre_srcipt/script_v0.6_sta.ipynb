{
 "cells": [
  {
   "cell_type": "code",
   "execution_count": 7,
   "metadata": {},
   "outputs": [],
   "source": [
    "import xlwings as xw\n",
    "import pandas as pd\n",
    "import difflib\n",
    "import re\n",
    "import os \n",
    "import numpy as np"
   ]
  },
  {
   "cell_type": "code",
   "execution_count": 8,
   "metadata": {},
   "outputs": [],
   "source": [
    "# ----------------------------------- 文件预处理 ------------------------------------ \n",
    "def prepocess(path,app):\n",
    "    wb = app.books.open(path)\n",
    "    #表格总数\n",
    "    sht_ai =  list(range(0,len(wb.sheets)))  \n",
    "    \n",
    "\n",
    "    for sht_i in sht_ai:\n",
    "        #1.除去空白页 ————删除页签造成sht_ai超出实际页签个数 \n",
    "        sht = wb.sheets[sht_i]\n",
    "        #取表格使用范围内的值\n",
    "        sht_value = sht.range((1,1),sht.used_range.shape).value\n",
    "        if sht_value == None:\n",
    "            sht_ai.pop()\n",
    "            sht.delete()\n",
    "            wb.save(path)\n",
    "        #2.只保留含有周数据的表格\n",
    "        \n",
    "        \n",
    "        #3.去除隐藏列(暂未实现)\n",
    "    wb.close()\n",
    "    \n"
   ]
  },
  {
   "cell_type": "code",
   "execution_count": 9,
   "metadata": {},
   "outputs": [],
   "source": [
    "# ------------------------------------提取详细数据------------------------------------ \n",
    "def total_a(path,name,app,j):\n",
    "    wb = app.books.open(path)\n",
    "    # #表格总数\n",
    "    sht_ai =  len(wb.sheets)\n",
    "\n",
    "    #sht_aname 取出所有表名\n",
    "    t = [l for l in wb.sheets]\n",
    "    sht_aname = list()\n",
    "    for i in range(0,sht_ai):\n",
    "        sht_aname.append(t[i].name)\n",
    "    #sht_aname_index 取出周工作表序号的bool list\n",
    "    sht_aname_index = list()\n",
    "    for i in sht_aname:\n",
    "        if \"周工作\" in i: sht_aname_index.append(True)\n",
    "        else:sht_aname_index.append(False)\n",
    "\n",
    "\n",
    "    t = [i for i in range(0,sht_ai)]\n",
    "    t = np.array(t)[np.array(sht_aname_index)]\n",
    "\n",
    "\n",
    "    #当前表格\n",
    "    cur = 1\n",
    "\n",
    "    # for sht_i in range(1,sht_ai):\n",
    "    for sht_i in t:\n",
    "    \n",
    "        sht = wb.sheets[sht_i]\n",
    "        #取表格使用范围\n",
    "        # sht_value = sht.range('A1:T30').value\n",
    "        sht_value = sht.range((1,1),sht.used_range.shape).value\n",
    "        #取得包含任务序号的第一列\n",
    "        first_col_list  = [i[0] for i in sht_value]\n",
    "        frnum = first_col_list.index('任务编号') + 1\n",
    "        #正则找到第一列小计元素\n",
    "        first_col_list = [str(v) for v in first_col_list]\n",
    "        resr = difflib.get_close_matches('小计', first_col_list, 1, cutoff=0.5)\n",
    "        #索引该元素\n",
    "        lrnum = first_col_list.index(resr[0]) \n",
    "\n",
    "        # num_list_right =  list(filter(None, first_col_list[frnum:lrnum])) \n",
    "        # wnum = len(num_list_right) #任务数\n",
    "        rnum = lrnum - frnum #行数\n",
    "\n",
    "        #表头行的None值转化为字符形式\n",
    "        first_row_list  = sht_value[1]\n",
    "        first_row_list = ['None' if v is None else v for v in first_row_list]\n",
    "        #正则找到项目用时统计的元素位置\n",
    "        resc = difflib.get_close_matches('项目用时统计', first_row_list, 1, cutoff=0.5)\n",
    "        #索引该元素得到\n",
    "        cnum = sht_value[1].index(resc[0]) #列数\n",
    "\n",
    "        #数据框提取\n",
    "        worktemp = pd.DataFrame(sht_value[frnum-1:lrnum+1])\n",
    "        worktemp = worktemp.iloc[:,0:(cnum+1)]\n",
    "        rowname = worktemp.iloc[0]\n",
    "        worktemp = worktemp.rename(columns=rowname).iloc[1:]\n",
    "        worktemp.columns = [*worktemp.columns[:-1], '项目投入统计']\n",
    "        worktemp = worktemp.reset_index(drop=True)\n",
    "    \n",
    "        \n",
    "        sum_st_col = worktemp.columns.get_loc('星期一')\n",
    "        sum_sp_col = cnum \n",
    "        daynum = sum_sp_col - sum_st_col\n",
    "\n",
    "        # # 数据矫正\n",
    "        worktemp['项目投入统计'] = worktemp.iloc[:,sum_st_col:sum_sp_col].sum(axis=1)\n",
    "        if (worktemp['项目投入统计'][0:-1].sum()) == (worktemp['项目投入统计'].iloc[-1]):\n",
    "            # print('项目投入统计正确')\n",
    "            pass\n",
    "        # #工作天未自增1h\n",
    "        # elif ((worktemp['项目投入统计'].iloc[-1]) - worktemp['项目投入统计'][0:-1].sum()) == daynum:\n",
    "        #     # worktemp['项目投入统计'].iloc[:-1] = worktemp['项目投入统计'].iloc[:-1] + (daynum/rnum)\n",
    "        #     # worktemp['项目投入统计'].iloc[-1] = worktemp['项目投入统计'].iloc[-1] + daynum\n",
    "        #     print(name[0]+'项目投入统计数值在第'+ str(sht_i) +'周出错（加和原因）')\n",
    "        else:\n",
    "            print(name[0]+'项目投入统计数值在第'+ str(sht_i) +'周出错（填报原因）')\n",
    "\n",
    "\n",
    "\n",
    "        if os.path.isfile(\"./汇总明细.xlsx\"):\n",
    "\n",
    "            wb0 = xw.books.open ( './汇总明细.xlsx' )\n",
    "            wb0.sheets[j].name = name[0]\n",
    "            wb0.sheets[j].range(cur,1).expand().value = worktemp.values.tolist()\n",
    "            wb0.save()\n",
    "\n",
    "        else:\n",
    "            wb0 = xw.Book()\n",
    "            wb0.sheets[0].name = name[0]\n",
    "            wb0.sheets[0].range(cur,1).expand().value = worktemp.values.tolist()\n",
    "            wb0.save('./汇总明细.xlsx')\n",
    "            wb0.close()\n",
    "\n",
    "\n",
    "\n",
    "        cur = cur + rnum + 1  \n",
    "    app.quit()\n"
   ]
  },
  {
   "cell_type": "code",
   "execution_count": 10,
   "metadata": {},
   "outputs": [],
   "source": [
    "# ------------------------------------汇总数据处理------------------------------------ \n",
    "def total_b(app):\n",
    "    if os.path.isfile(\"./汇总.xlsx\"):\n",
    "        app = xw.App(visible=True,add_book=False)\n",
    "        # app.display_alerts=False\n",
    "        # app.screen_updating=False\n",
    "        wb = app.books.open('./汇总.xlsx')\n",
    "    else:\n",
    "        os.system('copy 汇总明细.xlsx 汇总.xlsx')\n",
    "        app = xw.App(visible=True,add_book=False)\n",
    "        # app.display_alerts=False\n",
    "        # app.screen_updating=False\n",
    "        wb = app.books.open('./汇总.xlsx')\n",
    "\n",
    "\n",
    "\n",
    "    #删除小计\n",
    "\n",
    "\n",
    "\n",
    "\n",
    "    #向上合并任务\n",
    "\n",
    "\n",
    "\n",
    "\n",
    "\n",
    "\n",
    "    app.quit()\n"
   ]
  },
  {
   "cell_type": "code",
   "execution_count": 11,
   "metadata": {},
   "outputs": [],
   "source": [
    "# ------------------------------------ 主程序入口 ------------------------------------ \n",
    "def main():\n",
    "    #------------全局变量-------------------------------------------------\n",
    "    #将文件夹中所有excel路径存入list\n",
    "    p = os.getcwd()\n",
    "    fl = os.listdir('./input')                                     #CH\n",
    "    l = [i for i in fl if '双周计划' in i]                          #CH\n",
    "    # l.remove('汇总.xlsx')\n",
    "    l = [p+\"\\\\input\\\\\"+i for i in l]\n",
    "    #\n",
    "    j = 0 #汇总明细excel页签flag\n",
    "\n",
    "    #---------------------------------------------------------------------\n",
    "\n",
    "    #循环从excel文档去除空白页 提取明细数据\n",
    "    for g in l:\n",
    "        path = g\n",
    "        name = re.findall(' - (.*)\\.',path)                        #CH\n",
    "        app = xw.App(visible=True,add_book=False)\n",
    "        # app.display_alerts=False\n",
    "        # app.screen_updating=False\n",
    "        # prepocess(path,app)\n",
    "        total_a(path,name,app,j)\n",
    "        j += 1\n",
    "\n",
    "    # # ------------汇总数据处理------------- \n",
    "\n",
    "\n",
    "    # app = xw.App(visible=True,add_book=False)\n",
    "    #     # app.display_alerts=False\n",
    "    #     # app.screen_updating=False"
   ]
  },
  {
   "cell_type": "code",
   "execution_count": 12,
   "metadata": {},
   "outputs": [
    {
     "name": "stdout",
     "output_type": "stream",
     "text": [
      "符芳恺项目投入统计数值在第1周出错（填报原因）\n",
      "符芳恺项目投入统计数值在第2周出错（填报原因）\n",
      "符芳恺项目投入统计数值在第3周出错（填报原因）\n",
      "符芳恺项目投入统计数值在第4周出错（填报原因）\n"
     ]
    },
    {
     "name": "stderr",
     "output_type": "stream",
     "text": [
      "C:\\Users\\wengzhenbin\\AppData\\Local\\Temp\\ipykernel_7900\\1180619563.py:68: FutureWarning: Dropping of nuisance columns in DataFrame reductions (with 'numeric_only=None') is deprecated; in a future version this will raise TypeError.  Select only valid columns before calling the reduction.\n",
      "  worktemp['项目投入统计'] = worktemp.iloc[:,sum_st_col:sum_sp_col].sum(axis=1)\n",
      "C:\\Users\\wengzhenbin\\AppData\\Local\\Temp\\ipykernel_7900\\1180619563.py:68: FutureWarning: Dropping of nuisance columns in DataFrame reductions (with 'numeric_only=None') is deprecated; in a future version this will raise TypeError.  Select only valid columns before calling the reduction.\n",
      "  worktemp['项目投入统计'] = worktemp.iloc[:,sum_st_col:sum_sp_col].sum(axis=1)\n"
     ]
    }
   ],
   "source": [
    "# ------------------------------------主程序调用------------------------------------ \n",
    "main()"
   ]
  },
  {
   "cell_type": "code",
   "execution_count": 13,
   "metadata": {},
   "outputs": [
    {
     "data": {
      "text/plain": [
       "'220610212526'"
      ]
     },
     "execution_count": 13,
     "metadata": {},
     "output_type": "execute_result"
    }
   ],
   "source": [
    "import datetime\n",
    "datetime.datetime.now().strftime('%y%m%d%H%M%S')"
   ]
  }
 ],
 "metadata": {
  "kernelspec": {
   "display_name": "Python 3",
   "language": "python",
   "name": "python3"
  },
  "language_info": {
   "codemirror_mode": {
    "name": "ipython",
    "version": 3
   },
   "file_extension": ".py",
   "mimetype": "text/x-python",
   "name": "python",
   "nbconvert_exporter": "python",
   "pygments_lexer": "ipython3",
   "version": "3.8.10 (tags/v3.8.10:3d8993a, May  3 2021, 11:48:03) [MSC v.1928 64 bit (AMD64)]"
  },
  "orig_nbformat": 4,
  "vscode": {
   "interpreter": {
    "hash": "64293541769a3a7ae8531eb8700ba74e3bd605bea6651d9311250b85b07b58f7"
   }
  }
 },
 "nbformat": 4,
 "nbformat_minor": 2
}
