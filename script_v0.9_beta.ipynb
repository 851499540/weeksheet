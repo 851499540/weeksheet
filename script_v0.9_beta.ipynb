{
 "cells": [
  {
   "attachments": {},
   "cell_type": "markdown",
   "metadata": {},
   "source": [
    "#### 月报数据处理\n",
    "\n",
    "###### 取数函数思路：对单人各周轮询取数，各周dataframe放入list datadocker里面，传给传递函数\n",
    "###### 传递函数思路：逐个将每人datadocker list里各周dataframe合并，传递到alldatadocker 这个dataframe里\n"
   ]
  },
  {
   "cell_type": "code",
   "execution_count": null,
   "metadata": {},
   "outputs": [],
   "source": [
    "import numpy as np\n",
    "import pandas as pd\n",
    "import os\n",
    "import re\n",
    "from numpy import nan\n",
    "from datetime import datetime\n",
    "import warnings\n",
    "warnings.filterwarnings('ignore')\n",
    "import platform\n"
   ]
  },
  {
   "cell_type": "code",
   "execution_count": null,
   "metadata": {},
   "outputs": [],
   "source": [
    "# ----------------------------------------取数函数-------------------------------------\n",
    "def dataacs(path,name):  \n",
    "    # print(\"正在处理\"+name[0]+\"的周报\")\n",
    "    # docker作为回传数据容器\n",
    "    datadocker = list()\n",
    "\n",
    "    # sht_ai 页签数\n",
    "    sht_ai = len(pd.read_excel(path,header=None,sheet_name=None).keys())\n",
    "\n",
    "    # sht_name = list(dict_keys) 页签名字列表\n",
    "    sht_aname = list(pd.read_excel(path,header=None,sheet_name=None).keys())\n",
    "\n",
    "    # sht_aname_index 取出周工作表页签名含有周工作的bool list\n",
    "    sht_aname_index = list()\n",
    "    for i in sht_aname:\n",
    "        if \"周工作\" in i: sht_aname_index.append(True)\n",
    "        else:sht_aname_index.append(False)\n",
    "    t = [i for i in range(0,sht_ai)]\n",
    "    sht_real_ai = np.array(t)[np.array(sht_aname_index)]\n",
    "\n",
    "    for sht_i in sht_real_ai:\n",
    "        sht_value = pd.read_excel(path,header=None,sheet_name=sht_i,engine='openpyxl')\n",
    "        # df[bool list] 筛选行数\n",
    "        first_col_list  = sht_value.iloc[:,0]\n",
    "        frnum = first_col_list[first_col_list.str.contains('任务编号',na=False)].index[0] + 1\n",
    "        lrnum = first_col_list[first_col_list.str.contains('小计',na=False)].index[0] \n",
    "\n",
    "        rnum = lrnum - frnum  #行数(contain total)\n",
    "\n",
    "        # df[bool list] 筛选列数\n",
    "        first_row_list  = sht_value.iloc[1,:]\n",
    "        cnum = first_row_list[first_row_list.str.contains('统计',na=False)].index[0]\n",
    "\n",
    "        # 数据框提取\n",
    "        worktemp = sht_value[frnum-1:lrnum+1]\n",
    "        worktemp = worktemp.iloc[:,0:(cnum+1)]\n",
    "        rowname = worktemp.iloc[0]\n",
    "        worktemp = worktemp.rename(columns=rowname).iloc[1:]\n",
    "        worktemp.columns = [*worktemp.columns[:-1], '项目投入统计']\n",
    "        worktemp = worktemp.reset_index(drop=True)\n",
    "\n",
    "\n",
    "        # 第一个‘星期一‘到‘项目投入统计‘ 列数\n",
    "        t = worktemp.columns.to_frame()[0].reset_index(drop=True)\n",
    "        sum_st_col = t[t.str.contains('星期一',na=False)].index[0]   \n",
    "        sum_sp_col = cnum\n",
    "        daynum = sum_sp_col - sum_st_col\n",
    "\n",
    "\n",
    "#\n",
    "        # # 数据矫正：重新输出项目投入统计列数据\n",
    "        worktemp['项目投入统计'] = worktemp.iloc[:,sum_st_col:sum_sp_col].sum(axis=1)\n",
    "        # if (worktemp['项目投入统计'][0:-1].sum()) == (worktemp['项目投入统计'].iloc[-1]):\n",
    "        #     # print('项目投入统计正确')\n",
    "        #     pass\n",
    "        # # #工作天未自增1h\n",
    "        # # elif ((worktemp['项目投入统计'].iloc[-1]) - worktemp['项目投入统计'][0:-1].sum()) == daynum:\n",
    "        # #     # worktemp['项目投入统计'].iloc[:-1] = worktemp['项目投入统计'].iloc[:-1] + (daynum/rnum)\n",
    "        # #     # worktemp['项目投入统计'].iloc[-1] = worktemp['项目投入统计'].iloc[-1] + daynum\n",
    "        # #     print(name[0]+'项目投入统计数值在第'+ str(sht_i) +'周出错（加和原因）')\n",
    "        # else:\n",
    "        #     # openpyxl 引擎可以读取公式数值\n",
    "        #     print(name[0]+'项目投入统计数值在第'+ str(sht_i) +'周出错（填报原因）')  \n",
    "        #     # xlrd 引擎无法读取公式数值 现在用于debug执行到所到问题excel页签\n",
    "        #     # print(name[0]+'在第'+ str(sht_i) +'周出错')\n",
    "\n",
    "\n",
    "        # # 取得数据\n",
    "        # 清洗数据框\n",
    "        worktemp_final = worktemp.iloc[:-1,:] #删除 小计 行\n",
    "        worktemp_final = worktemp_final.loc[:,['任务分类','项目名称']] #取出相应列      ###项目code可以一并从这里取出来  \n",
    "\n",
    "        worktemp_final['项目用时统计'] = worktemp.iloc[:,-1] #统计用时统一名称\n",
    "\n",
    "\n",
    "        # 前2列 空单元格取上单元格值 （excel合并问题处理）\n",
    "        if ((worktemp_final.iloc[:,0:2].isnull().sum().sum())!= 0):                     #判断前两列是否存在空值                                 |仍有逻辑漏洞\n",
    "                                                                                        #    因为下面删除0行后空白列取上面的值可能出现逻辑错误     | 当前两列首航为空值\n",
    "                                                                                        # -----------------------------列空白处理在这里完成     | 第一个值取值溢出\n",
    "            #去除列的空值\n",
    "            # judge_l = list()                          #每列空值所在行数\n",
    "            # for z in range(0,2):                      #按列循环\n",
    "            #     for i in range(0,len(worktemp_final.iloc[:,z])):    #控制所在行数确认  error\n",
    "            #         if (pd.isnull(worktemp_final.iloc[:,z][i])):\n",
    "            #             judge_l.append(i)\n",
    "            #     for j in judge_l:                      #每列空值循环向上取值\n",
    "            #         worktemp_final.iloc[j,z] = worktemp_final.iloc[j-1,z]\n",
    "\n",
    "            for j in range(0,2):                                    #列\n",
    "                for i in range(0,len(worktemp_final.iloc[:,j])):    #行\n",
    "                    if(pd.isnull(worktemp_final.iloc[:,j][i])):\n",
    "                        worktemp_final.iloc[i,j] = worktemp_final.iloc[i-1,j]\n",
    "        \n",
    "        #  去除尾列为0的行\n",
    "        t = worktemp_final.iloc[:,-1]                                                  ##\n",
    "        t = t.map(lambda x: (np.isnan(x)) or (x is None) or (x == \" \") or (x == 0))     ##去除统计用时为0的工作任务\n",
    "        worktemp_final = worktemp_final[~(t)]                                          ##\n",
    "        worktemp_final = worktemp_final.rename({'项目用时统计':'W'+str(sht_i)},axis = 1)\n",
    "\n",
    "        #当某周为空白时,删除改dataframe\n",
    "        if (worktemp_final.shape[0] != 0):\n",
    "            #回传真实数据\n",
    "            datadocker.append(worktemp_final)\n",
    "\n",
    "    return datadocker\n"
   ]
  },
  {
   "cell_type": "code",
   "execution_count": null,
   "metadata": {},
   "outputs": [],
   "source": [
    "# ----------------------------------------传递函数-------------------------------------\n",
    "# pd to excel 会删除原有数据 且指定插入   故需要将插入数据中间继承 再一次性导入\n",
    "def container(name,datadocker,alldatadocker):\n",
    "    datadockertemp = list()\n",
    "    df = pd.DataFrame()\n",
    "    # 暂时合并任务相关的两列 并 将任务作为列名方便concat合并当月所有任务用时(最后还需转置回来)\n",
    "\n",
    "    # -------------------------------合并处理在这里完成(转置做法_old) -----------------------------------\n",
    "    # for i in datadocker:\n",
    "    #     temp = pd.DataFrame()\n",
    "    #     temp[\"任务\"] = i['任务分类'] + '_' + i['项目名称']\n",
    "    #     temp['投入用时'] = i['项目用时统计']                      # 项目用时统计 列名已经在 取数函数 97行中取消\n",
    "    #     temp = temp.groupby(['任务']).sum()                                  \n",
    "    #     temp = temp.T\n",
    "    #     # temp = temp.reset_index(drop=True)\n",
    "    #     datadockertemp.append(temp)\n",
    "    # df = pd.concat(datadockertemp) #员工当月数据以任务为列名合并（省去任务不同需要增加行的代码逻辑，任务不同自增一列）\n",
    "    # df = df.T                      #转置回正常统计维度 (周为列)                       |项目投入(第一周)|项目投入(第二周)|...| ... |\n",
    "    # df = df.reset_index()          #                                              |任务|项目投入(第一周)|项目投入(第二周)|...| ... |\n",
    "    # df['员工'] = name[0]            #                                              |任务|项目投入(第一周)|项目投入(第二周)|...| ... |员工|\n",
    "    # df = pd.concat([df, df['任务'].str.split('_', expand=True)], axis=1)#          |任务|项目投入(第一周)|项目投入(第二周)|...| ... |员工|0|1|   (0，1分别为任务分类和任务名称)\n",
    "    # df_final = pd.concat([df.iloc[:,-3:],df.iloc[:,1:-3]],axis=1)       #          重新对列进行排序\n",
    "\n",
    "    # -------------------------------合并处理在这里完成(concat/merge/join做法_new) -----------------------------------\n",
    "    df_temp = pd.concat(datadocker,axis=0)\n",
    "    df_temp = df_temp.groupby(['任务分类','项目名称'],as_index = False).sum()   #####  项目code加入后需要在这里加以下groupby list\n",
    "    df_temp = df_temp.reset_index(drop=True)\n",
    "    df_temp['员工'] = name[0]\n",
    "    df_temp = pd.concat([df_temp.iloc[:,-1],df_temp.iloc[:,:-1]],axis=1) \n",
    "    alldatadocker = alldatadocker.append(df_temp)\n",
    "    return alldatadocker"
   ]
  },
  {
   "cell_type": "code",
   "execution_count": null,
   "metadata": {},
   "outputs": [],
   "source": [
    "# ----------------------------------------写入函数-------------------------------------\n",
    "def datawritten(path_save,alldatadocker):\n",
    "    alldatadocker.to_excel(path_save,index = False)\n"
   ]
  },
  {
   "cell_type": "code",
   "execution_count": null,
   "metadata": {},
   "outputs": [],
   "source": [
    "# ------------------------------------ 主程序入口 ------------------------------------ CH\n",
    "def main():\n",
    "    #------------全局变量-------------------------------------------------\n",
    "    #将文件夹中所有excel路径存入list   \n",
    "    plat = platform.system().lower()\n",
    "    p = os.getcwd()\n",
    "    if plat == 'windows':\n",
    "        p = p.replace('\\\\','/')\n",
    "    fl = os.listdir('./input/itest')                                  #CH\n",
    "    # fl = os.listdir('./input/'+str(datetime.now().year)[2:4]+'M'+str(datetime.now().month-1))  \n",
    "    l = [i for i in fl if '工作周报' in i]                            #CH\n",
    "    l = [p+\"/input/itest/\"+i for i in l]                              #CH\n",
    "    # l = [p+\"/input/\"+str(datetime.now().year)[2:4]+'M'+str(datetime.now().month-1)+'/' + i for i in l]  \n",
    "\n",
    "\n",
    "    #输出excel的保存位置\n",
    "    path_save = './output/otest/汇总.xlsx'                            #CH\n",
    "    # path_save = './output/汇总'+str(datetime.now().year)[2:4]+'_'+str(datetime.now().month-1)+'.xlsx' \n",
    "\n",
    "    alldatadocker = pd.DataFrame()\n",
    "    #---------------------------------------------------------------------\n",
    "\n",
    "    #循环从excel所有人周工作表中提取明细数据\n",
    "    for g in l:\n",
    "        path = g\n",
    "        name = re.findall('周报_(.*)_2',path)                        #CH\n",
    "        name = [i.strip() for i in name]\n",
    "        datadocker = dataacs(path,name)\n",
    "        alldatadocker = container(name,datadocker,alldatadocker)\n",
    "\n",
    "    alldatadocker = alldatadocker.reset_index(drop=True)\n",
    "    l = list(alldatadocker.columns)\n",
    "    l[1],l[2] = '任务分类','任务'\n",
    "    for i in range(3,len(l)):\n",
    "        l[i] = 'Week'+str(i-2)\n",
    "    alldatadocker.columns = [x for x in l]\n",
    "    # df = df.replace(np.nan,0)\n",
    "    alldatadocker = alldatadocker.fillna(0)\n",
    "    alldatadocker['总人天'] = np.around((alldatadocker.iloc[:,3:].sum(axis=1))/7,2)\n",
    "    alldatadocker\n",
    "    datawritten(path_save,alldatadocker)\n",
    "    return alldatadocker\n",
    "    \n",
    "df0 = main()\n"
   ]
  },
  {
   "cell_type": "code",
   "execution_count": null,
   "metadata": {},
   "outputs": [],
   "source": [
    "# 删除所有变量\n",
    "# %reset "
   ]
  },
  {
   "cell_type": "code",
   "execution_count": null,
   "metadata": {},
   "outputs": [],
   "source": [
    "# import subprocess, sys\n",
    "\n",
    "# opener = \"open\" if sys.platform == \"darwin\" else \"xdg-open\"\n",
    "# subprocess.call([opener, './'])\n"
   ]
  },
  {
   "attachments": {},
   "cell_type": "markdown",
   "metadata": {},
   "source": [
    "#### 月报分析数据展示"
   ]
  },
  {
   "cell_type": "code",
   "execution_count": null,
   "metadata": {},
   "outputs": [],
   "source": [
    "df0"
   ]
  },
  {
   "cell_type": "code",
   "execution_count": null,
   "metadata": {},
   "outputs": [],
   "source": [
    "# 23年法定人天  & 当前月法定人天        \n",
    "month = datetime.now().month\n",
    "mdlist = [18,20,23,\t19,\t21,\t21,\t21,\t23,\t20,\t19,\t22,\t21]\n",
    "mdinlaw = mdlist[month-1]\n",
    "mdinlaw"
   ]
  },
  {
   "cell_type": "code",
   "execution_count": null,
   "metadata": {},
   "outputs": [],
   "source": [
    "# 人员有效利用率 前8\n",
    "df2 = df0[df0['任务分类'].isin(['建设','运维','营销'])].pivot_table(index=['员工'],aggfunc={'总人天': np.sum},values=['总人天']).reset_index()\n",
    "df2['有效利用率_orgin'] = df2['总人天']/mdinlaw\n",
    "df2['有效利用率'] = df2['有效利用率_orgin'].apply(lambda x : format(x, '.2%'))\n",
    "df2 = df2.loc[:,['员工','有效利用率','总人天']]\n",
    "df2 = df2.rename(columns={'总人天':'有效总人天'})\n",
    "df2['有效利用率_orgin'] = df2['有效总人天']/mdinlaw\n",
    "df2"
   ]
  },
  {
   "cell_type": "code",
   "execution_count": null,
   "metadata": {},
   "outputs": [],
   "source": [
    "# 人员利用率 前8\n",
    "df1 = df0.pivot_table(index=['员工'],aggfunc={'总人天': np.sum}).reset_index()\n",
    "df1['法定总人天'] = mdinlaw \n",
    "df1['利用率_orgin'] = df1['总人天']/mdinlaw\n",
    "df1['利用率'] = df1['利用率_orgin'].apply(lambda x : format(x, '.2%'))\n",
    "\n",
    "# df1 = df1[['员工','人员利用率','总人天']]\n",
    "df1 = df1.loc[:,['员工','利用率','总人天']]\n",
    "df1 = df1.merge(df2.iloc[:,[0,2]],how='left',on='员工')\n",
    "# df1.join(df2,lsuffix='',rsuffix='_rsuffix').iloc[:,[0,1,2,5]]\n",
    "# pd.concat([df1,df2],axis=1).iloc[:,[0,1,2,5]]\n",
    "\n",
    "df1['利用率_orgin'] = df1['总人天']/mdinlaw\n",
    "df1.head(8)"
   ]
  },
  {
   "cell_type": "code",
   "execution_count": null,
   "metadata": {},
   "outputs": [],
   "source": [
    "# 任务分类占比\n",
    "df6 = df0.pivot_table(index=['任务分类'],aggfunc={'总人天': np.sum},values=['总人天']).reset_index()\n",
    "df6['占比'] = df6['总人天']/(df6['总人天'].sum())\n",
    "df6 = df6.iloc[:,[0,2]].sort_values(by=['占比'],ascending=False)\n",
    "df6.iloc[:,0] = df6.iloc[:,0].apply(lambda x: x+'总人天')\n",
    "df6.iloc[:,1] = df6.iloc[:,1].apply(lambda x:format(x,'.2%'))\n",
    "df6"
   ]
  },
  {
   "cell_type": "code",
   "execution_count": null,
   "metadata": {},
   "outputs": [],
   "source": [
    "# 任务分类投入人天\n",
    "df7 = df0.pivot_table(index=['任务分类'],aggfunc={'总人天': np.sum},values=['总人天']).reset_index()\n",
    "df7 = df7.iloc[:,[0,1]].sort_values(by=['总人天'],ascending=False)\n",
    "df7['任务分类'] = df7['任务分类'] + '总人天'\n",
    "df7"
   ]
  },
  {
   "cell_type": "code",
   "execution_count": null,
   "metadata": {},
   "outputs": [],
   "source": [
    "# 打印关键指标 \n",
    "print(format(datetime.now(),'%y%m'))\n",
    "\n",
    "# 人数\n",
    "print('总人数： ' + str(len(df0.iloc[:,0].unique())))\n",
    "\n",
    "# 总人天\n",
    "print('总人天： ' + str(np.around(df1.iloc[:,2].sum(),2)))\n",
    "\n",
    "# 有效总人天\n",
    "print('有效总人天： ' + str(np.around(df2.iloc[:,2].sum(),2)))\n",
    "\n",
    "# 人均利用率\n",
    "print('人均利用率' + format(np.mean(df1['利用率_orgin']),'.2%'))\n",
    "\n",
    "# 人均有效利用率\n",
    "print('人均有效利用率' + format(np.mean(df2['有效利用率_orgin']),'.2%'))\n"
   ]
  },
  {
   "cell_type": "code",
   "execution_count": null,
   "metadata": {},
   "outputs": [],
   "source": [
    "# 建设项目投入人天 前8\n",
    "df3 = df0[df0['任务分类'] == '建设']\n",
    "df3 = df3.loc[:,['任务','总人天']].groupby('任务').sum().sort_values(by=['总人天'],ascending=False)\n",
    "df3.head(8)"
   ]
  },
  {
   "cell_type": "code",
   "execution_count": null,
   "metadata": {},
   "outputs": [],
   "source": [
    "# 建设项目投入人数 前8\n",
    "df4 = df0[df0['任务分类'] == '建设']\n",
    "df4 = df4.loc[:,['任务','员工']]\n",
    "df4['员工'] = 1\n",
    "df4 = df4.loc[:,['任务','员工']].groupby('任务').sum().sort_values(by=['员工'],ascending=False)\n",
    "df4.head(8)"
   ]
  },
  {
   "cell_type": "code",
   "execution_count": null,
   "metadata": {},
   "outputs": [],
   "source": [
    "# 系统运维投入人天 前8\n",
    "df5 = df0[df0['任务分类'] == '运维']\n",
    "df5 = df5.loc[:,['任务','总人天']].groupby('任务').sum().sort_values(by=['总人天'],ascending=False)\n",
    "df5.head(8)"
   ]
  },
  {
   "cell_type": "code",
   "execution_count": null,
   "metadata": {},
   "outputs": [],
   "source": [
    "# 系统运维投入人数 前8\n",
    "df5 = df0[df0['任务分类'] == '运维']\n",
    "df5 = df5.loc[:,['任务','员工']]\n",
    "df5['员工'] = 1\n",
    "df5 = df5.loc[:,['任务','员工']].groupby('任务').sum().sort_values(by=['员工'],ascending=False)\n",
    "df5.head(8)"
   ]
  },
  {
   "cell_type": "code",
   "execution_count": null,
   "metadata": {},
   "outputs": [],
   "source": [
    "# 组别维度表\n",
    "\n",
    "groupdimension = pd.DataFrame({\n",
    "    '员工' : [\"朱苏明\",   \"符芳恺\",\t\"陆小兰\",\t\"董乐航\",\t\"耿凡舒\",\t\"李国靖\",\t\"徐勇\",\t\"刘攀\",\t\"何远\",\t\"卢绍松\",\t\"廖美联\",\t\"黎庆奋\",\t\"陈其达\",\t\"廖武燊\",\t\"张劢\",\t\"李奕信\",\t\"吕光源\",\t\"翁圳滨\",\t\"冯求四\",\t\"帅泉泉\",\t\"许伟兴\",\t\"韦庆生\",\t\"黄国杰\",\t\"滕兆悟\",\t\"黄嘉杰\",\t\"毛裕青\",\t\"胡志忠\",\t\"王超\",\t\"邓承熹\",\t\"陈亮\",\t\"邱文杰\",\t\"罗远\",\t\"江忠\",\t\"李霁恒\",\t\"谭文辉\",\t\"王可珂\",\t\"揭俊娟\",\t\"何新辉\",\t\"周刚\",\t\"史少龙\",\t\"赵翠旺\",\t\"李鹏\"],\n",
    "    'group' : [\"公司治理\",\t\"公司治理\",\t\"公司治理\",\t\"公司治理\",\t\"公司治理\",\t\"公司治理\",\t\"物资供应\",\t\"物资供应\",\t\"物资供应\",\t\"物资供应\",\t\"物资供应\",\t\"销售物流\",\t\"销售物流\",\t\"销售物流\",\t\"销售物流\",\t\"销售物流\",\t\"数据应用\",\t\"数据应用\",\t\"数据应用\",\t\"数据应用\",\t\"新业务\",\t\"新业务\",\t\"新业务\",\t\"通用技术\",\t\"通用技术\",\t\"通用技术\",\t\"通用技术\",\t\"基础设施\",\t\"基础设施\",\t\"基础设施\",\t\"基础设施\",\t\"基础设施\",\t\"基础设施\",\t\"基础设施\",\t\"电商\",\t\"电商\",\t\"电商\",\t\"电商\",\t\"电商\",\t\"电商\",\t\"电商\",\t\"电商\"],\n",
    "    'YN' : [1,\t1,\t1,\t1,\t1,\t0,\t1,\t1,\t1,\t1,\t1,\t1,\t1,\t1,\t1,\t0,\t1,\t1,\t1,\t1,\t1,\t1,\t1,\t1,\t1,\t0,\t1,\t1,\t1,\t1,\t1,\t1,\t1,\t1,\t1,\t0,\t1,\t1,\t1,\t1,\t1,\t1]})\n",
    "groupdimension"
   ]
  },
  {
   "cell_type": "code",
   "execution_count": null,
   "metadata": {},
   "outputs": [],
   "source": [
    "groupdimension.values.tolist()"
   ]
  },
  {
   "cell_type": "code",
   "execution_count": null,
   "metadata": {},
   "outputs": [],
   "source": [
    "groupdimension.groupby('group').sum()"
   ]
  },
  {
   "cell_type": "code",
   "execution_count": null,
   "metadata": {},
   "outputs": [],
   "source": [
    "# 组别人数\n",
    "df8 = groupdimension.groupby('group').sum().reset_index()\n",
    "df8\n",
    "\n",
    "\n",
    "\n",
    "df8"
   ]
  },
  {
   "cell_type": "code",
   "execution_count": null,
   "metadata": {},
   "outputs": [],
   "source": [
    "# 业务组利用率\n",
    "df9 = df0.merge(groupdimension,how='left',on='员工')\n",
    "df9 = df9.loc[:,['group','总人天']]\n",
    "df9 = df9.groupby(by='group').sum()\n",
    "df9 = df9.merge(df8,how='left',on='group')\n",
    "df9['tmd'] = df9['YN']*mdinlaw\n",
    "df9['groupusingrate'] = df9['总人天']/df9['tmd']\n",
    "df9 = df9[['group','groupusingrate']].sort_values(by='groupusingrate',ascending=False)\n",
    "df9['groupusingrate'] = df9['groupusingrate'].apply(lambda x: format(x,'.2%'))\n",
    "df9"
   ]
  },
  {
   "cell_type": "code",
   "execution_count": null,
   "metadata": {},
   "outputs": [],
   "source": [
    "# 业务组有效利用率\n",
    "df10 = df0[df0['任务分类'].isin(['建设','运维','营销'])].merge(groupdimension,how='left',on='员工')\n",
    "df10 = df10.loc[:,['group','总人天']]\n",
    "df10 = df10.groupby(by='group').sum()\n",
    "df10 = df10.merge(df8,how='left',on='group')\n",
    "df10['tmd'] = df10['YN']*mdinlaw\n",
    "df10['groupusingrate'] = df10['总人天']/df10['tmd']\n",
    "df10 = df10[['group','groupusingrate']].sort_values(by='groupusingrate',ascending=False)\n",
    "df10['groupusingrate'] = df10['groupusingrate'].apply(lambda x: format(x,'.2%'))\n",
    "df10"
   ]
  },
  {
   "attachments": {},
   "cell_type": "markdown",
   "metadata": {},
   "source": [
    "#### 月报ppt处理"
   ]
  },
  {
   "cell_type": "code",
   "execution_count": null,
   "metadata": {},
   "outputs": [],
   "source": [
    "text_runs = []\n",
    "from pptx import Presentation\n",
    "ppt = Presentation('./润丰智慧-产品中中心管理月报（2月月会）-V1.7.pptx')\n",
    "len(ppt.slides)\n",
    "slide = ppt.slides[0]\n",
    "shape = slide.shapes[0]\n",
    "shape.text = '就这月报'\n",
    "\n",
    "ppt.save('./就这月报.pptx')"
   ]
  }
 ],
 "metadata": {
  "kernelspec": {
   "display_name": "base",
   "language": "python",
   "name": "python3"
  },
  "language_info": {
   "codemirror_mode": {
    "name": "ipython",
    "version": 3
   },
   "file_extension": ".py",
   "mimetype": "text/x-python",
   "name": "python",
   "nbconvert_exporter": "python",
   "pygments_lexer": "ipython3",
   "version": "3.9.13"
  },
  "orig_nbformat": 4,
  "vscode": {
   "interpreter": {
    "hash": "df84b1fb85515b07fb2bcc5bb541c7497d526fcf0fc292f04a4439be3e5b7ca4"
   }
  }
 },
 "nbformat": 4,
 "nbformat_minor": 2
}
